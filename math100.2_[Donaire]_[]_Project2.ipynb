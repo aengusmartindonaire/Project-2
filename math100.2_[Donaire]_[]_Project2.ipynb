{
 "cells": [
  {
   "cell_type": "markdown",
   "id": "5c4caf92-a843-43f4-b534-f10996343b5c",
   "metadata": {},
   "source": [
    "# MA 100.2 Project 2: Forward Rate Agreements\n",
    "\n",
    "### Instructor: Juan Carlo F. Mallari (jmallari@ateneo.edu)\n",
    "\n",
    "MATH 100.2: Topics in Financial Mathematics II \\\n",
    "First Semester, S.Y. 2022-2023 \\\n",
    "Ateneo de Manila University"
   ]
  },
  {
   "cell_type": "markdown",
   "id": "4b139c03-6856-4dbd-807d-a020f33f90b0",
   "metadata": {},
   "source": [
    "Submitted by:\n",
    "1. BELTRAN, Neil John\n",
    "2. DONAIRE, Aengus Martin\n",
    "3. VICTORIA, Maj\n",
    "\n",
    "People I asked help from: None\n",
    "\n",
    "Websites I used for completing this Project:\n",
    "1. https://numpy.org/doc/stable/reference/generated/numpy.cov.html"
   ]
  },
  {
   "cell_type": "code",
   "execution_count": 1,
   "id": "3fcf049e-c5d0-4e8b-ac68-c6cc9fdd2043",
   "metadata": {},
   "outputs": [],
   "source": [
    "import numpy as np # Numerical Computing\n",
    "import pandas as pd # Data wrangling\n",
    "import matplotlib.pyplot as plt #Plotting\n",
    "import datetime as dt\n",
    "\n",
    "from statistics import NormalDist # statistical analysis\n",
    "from tabulate import tabulate #Tables\n",
    "from dateutil.relativedelta import relativedelta"
   ]
  },
  {
   "cell_type": "markdown",
   "id": "9757b7ab-e8c0-4da4-beb9-39dbc3534453",
   "metadata": {},
   "source": [
    "# PART 1: Functional Implementation"
   ]
  },
  {
   "cell_type": "code",
   "execution_count": 2,
   "id": "897bc0c5-e3e3-4b27-a88c-03fa895f096c",
   "metadata": {},
   "outputs": [],
   "source": [
    "def linear_interp(t,x,y):\n",
    "    \n",
    "    \"\"\"\n",
    "    Linearly interpolates the zero rate for tenor t \n",
    "    using the equation of line determined by the two available points \n",
    "    (x_1,y_1) and (x_2,y_2) whose tenors x_1 and x_2 are nearest to t\n",
    "    \n",
    "    -------\n",
    "    Inputs:\n",
    "    t = tenor of the unknown zero rate \n",
    "    x = list [x_1,x_2]\n",
    "    y = list [y_1,y_2]\n",
    "    \n",
    "    Return\n",
    "    -------\n",
    "    float (The y value of t in a line with slope m and passes thru (x[0],y[0]))\n",
    "    \"\"\"\n",
    "    \n",
    "    m = (y[1]-y[0])/(x[1]-x[0])\n",
    "    \n",
    "    y = y[0] + m*(t-x[0])\n",
    "    \n",
    "    return y"
   ]
  },
  {
   "cell_type": "code",
   "execution_count": 3,
   "id": "1c3a9f90-c998-443b-9789-6af3fbb58188",
   "metadata": {},
   "outputs": [],
   "source": [
    "def convert_freq_rate(R_n,n,m,freq):\n",
    "    \n",
    "    \"\"\"this function converts rates from n-compounding with rate R_n to m-compounding with rate R_m,\n",
    "    and from n-compounding with rate R_n to continuous rates with rate R_c\"\"\"\n",
    "    \n",
    "    if freq =='exp':\n",
    "        R= n*np.log(1+ R_n/n)\n",
    "        \n",
    "    else:\n",
    "        R= m*((1+R_n/n)**(n/m) -1)\n",
    "        \n",
    "    return R"
   ]
  },
  {
   "cell_type": "code",
   "execution_count": 4,
   "id": "a16a42b0-c4fe-461a-b818-238175fa712b",
   "metadata": {},
   "outputs": [],
   "source": [
    "def forward_rate(\n",
    "    t, T_1, T_2, r_1, r_2, m \n",
    "):\n",
    "    \"\"\"Returns the forward rate observed at time t (0<=t)\n",
    "    (where T_1 < T_2 and their values are determined at time 0)\n",
    "    \n",
    "       This function assumes that the zero rates r_1 and r_2 and the forward rate \n",
    "       have the same compounding frequency. \n",
    "    \n",
    "    Parameters\n",
    "    ----------\n",
    "    t (in years)\n",
    "    T_1: start of forward period as observed at time t=0 (in years)\n",
    "    T_2: end of forward period as observed at time t=0 (in years)\n",
    "    r_1: zero rate observed at time t with tenor T_1-t years\n",
    "    r_2: zero rate observed at time t with tenor T_2-t years\n",
    "    m:  compounding frequency of r_1, r_2 and the forward rate \n",
    "        assumes value in this list: ['simple', 'exp', 1, 2, 4, 12, 52, 365]\n",
    "    \n",
    "    Returns\n",
    "    -------\n",
    "    float (4 decimal places)\n",
    "        forward rate observed at time t (0<=t)\n",
    "    \"\"\"\n",
    "    #for simple compounding\n",
    "    if m == 'simple':\n",
    "        DF_1 = (1+(r_1*(T_1-t)))**(-1)\n",
    "        DF_2 = (1+(r_2*(T_2-t)))**(-1)\n",
    "        forward_rate = (DF_1/DF_2 -1)/(T_2 - T_1)\n",
    "    \n",
    "    #for continuous compounding\n",
    "    elif m== 'exp':\n",
    "        forward_rate = (r_2*(T_2-t)-r_1*(T_1-t))/(T_2 - T_1)\n",
    "    \n",
    "    #for m-compounding\n",
    "    else:\n",
    "        DF_1 = (1 + r_1/m)**(-m*(T_1-t))\n",
    "        DF_2 = (1 + r_2/m)**(-m*(T_2-t))\n",
    "        forward_rate = m*((DF_1/DF_2)**(1/(m*(T_2-T_1)))-1)\n",
    "\n",
    "    return forward_rate"
   ]
  },
  {
   "cell_type": "code",
   "execution_count": 5,
   "id": "1eaccfd2-b8f4-4123-8e28-163f8da4b10c",
   "metadata": {},
   "outputs": [],
   "source": [
    "def fra_value(\n",
    "    t, T_1, T_2, r_fixed, r_float, r_t, m, L, payer \n",
    "):\n",
    "    \"\"\"Returns the value of the forward rate agreement (FRA) at time t (0<t<=T_1) to the specified payer.\n",
    "    \n",
    "       At time t=T_1, the function returns the present value (at time t=T_1) of the FRA's cash settlement \n",
    "       from the perspective of the specified payer.\n",
    "        \n",
    "       This function assumes that the interest rates r_fixed, r_float, and r_t have the same compounding frequency. \n",
    "    \"\"\"\n",
    "    \"\"\"\n",
    "    Parameters\n",
    "    ----------\n",
    "    t (in years) \n",
    "    T_1: start of forward period as observed at time t=0 (in years)\n",
    "    T_2: end of forward period as observed at time t=0 (in years)\n",
    "    \n",
    "    r_fixed: fixed interest rate of the FRA determined at time t=0\n",
    "    r_float: floating interest rate of the FRA determined at time t\n",
    "    r_t: zero rate observed at time t with tenor T_2-t years\n",
    "    \n",
    "    m: compounding frequency of r_1, r_2 and the forward rate \n",
    "        assumes value in this list: ['simple', 'exp', 1, 2, 4, 12, 52, 365]\n",
    "    L: notional principal amount of the FRA\n",
    "    payer: we are getting the value of the FRA from the perspective of the payer\n",
    "        assumes value in this list: ['fixed', 'float']\n",
    "    \n",
    "    Returns\n",
    "    -------\n",
    "    float (2 decimal places)\n",
    "        value of the forward rate agreement (FRA) at time t (0<t<=T_1) to the specified payer\n",
    "    \"\"\"\n",
    "    \n",
    "    if m == 'simple':\n",
    "        t_2   = T_2 -t\n",
    "        DFt_2 = (1+ r_t*t_2)**(-1)\n",
    "        V_t   = L*(r_float- r_fixed)*(T_2-T_1)*DFt_2\n",
    "        \n",
    "        if payer == 'fixed':\n",
    "            V_tp = V_t\n",
    "        else:\n",
    "            V_tp = -V_t\n",
    "            \n",
    "    elif m == 'exp':\n",
    "        t_2   = T_2 -t\n",
    "        DFt_2 = np.exp(-r_t*t_2)\n",
    "        V_t   = L*(np.exp(r_float*(T_2-T_1))-np.exp(r_fixed*(T_2-T_1))) *DFt_2\n",
    "        \n",
    "        if payer == 'fixed':\n",
    "            V_tp = V_t\n",
    "        else:\n",
    "            V_tp = -V_t\n",
    "            \n",
    "    else:\n",
    "        t_2   = T_2 -t\n",
    "        DFt_2 = (1 + r_t/m)**(-m*t_2)\n",
    "        \n",
    "        V_t   = L*((1+r_float/m)**(m*(T_2-T_1))-(1+r_fixed/m)**(m*(T_2-T_1)))*DFt_2\n",
    "        \n",
    "        if payer == 'fixed':\n",
    "            V_tp = V_t\n",
    "    \n",
    "        else:\n",
    "            V_tp = -V_t\n",
    "    \n",
    "    return round(V_tp,2)"
   ]
  },
  {
   "cell_type": "markdown",
   "id": "690f7a61-a31d-4a0c-848e-a161fa9473ac",
   "metadata": {},
   "source": [
    "# PART 2: Validation"
   ]
  },
  {
   "cell_type": "markdown",
   "id": "67f062ea-71ce-49ef-8958-8537743028b0",
   "metadata": {},
   "source": [
    "#### QUESTION A\n",
    "\n",
    "Given the following zero rates: 1-month: 1.75%, 3-month:2.5%, 6-month: 3.75%, 9-month: 4.25%, 1-year: 4.75%.z"
   ]
  },
  {
   "cell_type": "code",
   "execution_count": 6,
   "id": "f58992f3-9e83-466b-9d6f-718e45688f20",
   "metadata": {},
   "outputs": [],
   "source": [
    "#From the given, the rates are:\n",
    "\n",
    "R1 = 1.75 /100\n",
    "R3 = 2.5  /100\n",
    "R6 = 3.75 /100\n",
    "R9 = 4.25 /100\n",
    "R12= 4.75 /100"
   ]
  },
  {
   "cell_type": "code",
   "execution_count": 7,
   "id": "ccdb6426-30b4-43ec-bda3-1d32f2a02bd3",
   "metadata": {},
   "outputs": [
    {
     "name": "stdout",
     "output_type": "stream",
     "text": [
      "If zero rates are simple, the 3-month forward rate 3 months from now is 4.9689440993788025%.\n"
     ]
    }
   ],
   "source": [
    "#If the given zero rates are simple rates, calculate the 3-month forward rate 3 months from now.\n",
    "\n",
    "a1 = forward_rate(\n",
    "    t   = 3/12   ,\n",
    "    T_1 = 6/12   ,\n",
    "    T_2 = 9/12   ,\n",
    "    r_1 = R3     ,\n",
    "    r_2=  R6     ,\n",
    "    m= 'simple' \n",
    ")\n",
    "print(f\"If zero rates are simple, the 3-month forward rate 3 months from now is {format(a1*100,',')}%.\") "
   ]
  },
  {
   "cell_type": "code",
   "execution_count": 8,
   "id": "55857562-6f01-467a-b9b0-ab7eb566977a",
   "metadata": {},
   "outputs": [
    {
     "name": "stdout",
     "output_type": "stream",
     "text": [
      "Compounded annually, the 5-month forward rate 1 month from now is 4.154692934071957%.\n"
     ]
    }
   ],
   "source": [
    "#If the given zero rates are compounded annually, calculate the 5-month forward rate 1 month from now.\n",
    "\n",
    "a2 = forward_rate(\n",
    "    t   = 1/12   ,\n",
    "    T_1 = 2/12   ,\n",
    "    T_2 = 7/12   ,\n",
    "    r_1 = R1     ,\n",
    "    r_2=  R6     ,\n",
    "    m= 1 \n",
    ")\n",
    "print(f\"Compounded annually, the 5-month forward rate 1 month from now is {format(a2*100,',')}%.\") "
   ]
  },
  {
   "cell_type": "code",
   "execution_count": 9,
   "id": "d56b631b-2bbb-4280-a3d5-17b64d04829c",
   "metadata": {},
   "outputs": [
    {
     "name": "stdout",
     "output_type": "stream",
     "text": [
      "Compounded semi-annually, the 6-month forward rate 6 months from now is 5.7549079754601%.\n"
     ]
    }
   ],
   "source": [
    "#If the given zero rates are compounded semi-annually, calculate the 6-month forward rate 6 months from now.\n",
    "\n",
    "a3 = forward_rate(\n",
    "    t   = 6/12     ,\n",
    "    T_1 = 12/12    ,\n",
    "    T_2 = 18/12    ,\n",
    "    r_1 = R6       ,\n",
    "    r_2=  R12      ,\n",
    "    m= 2   \n",
    ")\n",
    "print(f\"Compounded semi-annually, the 6-month forward rate 6 months from now is {format(a3*100,',')}%.\") "
   ]
  },
  {
   "cell_type": "code",
   "execution_count": 10,
   "id": "8568e6d3-7146-4dd7-ac36-675bce893889",
   "metadata": {},
   "outputs": [
    {
     "name": "stdout",
     "output_type": "stream",
     "text": [
      "Compounded monthly, the 6-month forward rate 3 months from now is 5.1259548100610175%.\n"
     ]
    }
   ],
   "source": [
    "#If the given zero rates are compounded monthly, calculate the 6-month forward rate 3 months from now.\n",
    "\n",
    "a4 = forward_rate(\n",
    "    t   = 3/12     ,\n",
    "    T_1 = 6/12     ,\n",
    "    T_2 = 12/12    ,\n",
    "    r_1 = R3       ,\n",
    "    r_2=  R9       ,\n",
    "    m= 12\n",
    ")\n",
    "print(f\"Compounded monthly, the 6-month forward rate 3 months from now is {format(a4*100,',')}%.\") "
   ]
  },
  {
   "cell_type": "code",
   "execution_count": 11,
   "id": "442b22b2-38fd-4b70-9ccb-403d488734cf",
   "metadata": {},
   "outputs": [
    {
     "name": "stdout",
     "output_type": "stream",
     "text": [
      "If zero rates are continuously-compounded, the 3-month forward rate 6 months from now is 5.250000000000001%.\n"
     ]
    }
   ],
   "source": [
    "#If the given zero rates are continuously-compounded, calculate the 3-month forward rate 6 months from now.\n",
    "\n",
    "a5 = forward_rate(\n",
    "    t   = 3/12     ,\n",
    "    T_1 = 9/12    ,\n",
    "    T_2 = 12/12    ,\n",
    "    r_1 = R6       ,\n",
    "    r_2=  R9       ,\n",
    "    m= 'exp'\n",
    ")\n",
    "print(f\"If zero rates are continuously-compounded, the 3-month forward rate 6 months from now is {format(a5*100,',')}%.\") "
   ]
  },
  {
   "cell_type": "markdown",
   "id": "010af498-b6b1-431a-920a-23bde2e598e4",
   "metadata": {},
   "source": [
    "### Question B\n",
    "\n",
    "Suppose that a $(3 \\times 6)$ FRA is set today with notional 15 million pesos. The 3-month rate now with continuous compounding is 2.250% and the 6-month rate with continuous compounding is 3.175%."
   ]
  },
  {
   "cell_type": "code",
   "execution_count": 12,
   "id": "5a4ab62f-0f13-40b8-8853-9559ad3c3781",
   "metadata": {},
   "outputs": [
    {
     "name": "stdout",
     "output_type": "stream",
     "text": [
      "The fixed rate for this FRA is 4.1%.\n"
     ]
    }
   ],
   "source": [
    "#1. Determine the fixed rate for the FRA.\n",
    "\n",
    "b1 = forward_rate(\n",
    "    t   = 0          ,\n",
    "    T_1 = 3/12       ,\n",
    "    T_2 = 6/12       ,\n",
    "    r_1 = 2.25/100   ,\n",
    "    r_2=  3.175/100  ,\n",
    "    m= 'exp' \n",
    ") \n",
    "\n",
    "print(f\"The fixed rate for this FRA is {round(b1*100,2)}%.\") "
   ]
  },
  {
   "cell_type": "code",
   "execution_count": 13,
   "id": "f93afe72-50a3-4291-88ee-4fdd0709bcec",
   "metadata": {},
   "outputs": [
    {
     "name": "stdout",
     "output_type": "stream",
     "text": [
      "The value of the FRA to the fixed-rate payer is 7,160.37 while its value to the floating-rate payer is -7,160.37\n"
     ]
    }
   ],
   "source": [
    "#2. After 1 month, the 2-month rate is 2.125% and the 5-month rate is 3.425%, both with continuous compounding.\n",
    "#What is the value of the FRA to the fixed-rate payer? to the floating-rate payer?\n",
    "\n",
    "rfloatb1 = forward_rate(\n",
    "    t    = 1/12       ,\n",
    "    T_1  = 3/12       ,\n",
    "    T_2  = 6/12       ,\n",
    "    r_1  = 2.125/100  ,\n",
    "    r_2  =  3.425/100 ,\n",
    "    m    = 'exp' \n",
    ") \n",
    "\n",
    "b2 =fra_value(\n",
    "    t =1/12, T_1 =3/12, T_2 =6/12, \n",
    "    r_fixed =b1, \n",
    "    r_float =rfloatb1,\n",
    "    r_t     =3.425/100,\n",
    "    m       ='exp',\n",
    "    L       =15000000, \n",
    "    payer   ='fixed' \n",
    ")\n",
    "\n",
    "print(f\"The value of the FRA to the fixed-rate payer is {format(b2,',')} while its value to the floating-rate payer is {format(-b2,',')}\")"
   ]
  },
  {
   "cell_type": "code",
   "execution_count": 14,
   "id": "56a127b2-9a8d-49b0-a85a-86a6941ddd1a",
   "metadata": {},
   "outputs": [
    {
     "name": "stdout",
     "output_type": "stream",
     "text": [
      "The fixed-rate payer pays the floating-rate payer with the settlement amount of 6,939.1\n"
     ]
    }
   ],
   "source": [
    "#3. Suppose the 3-month rate at expiration date of the FRA is 3.915% with continuous compounding. \n",
    "#Which party pays the other party? How much is the settlement amount?\n",
    "\n",
    "rfloatb2 = 3.915/100\n",
    "\n",
    "b3 =fra_value(\n",
    "    t       =3/12      ,\n",
    "    T_1     =3/12      , \n",
    "    T_2     =6/12      , \n",
    "    r_fixed =b1        ,\n",
    "    r_float =rfloatb2  ,\n",
    "    r_t     =rfloatb2  ,\n",
    "    m       ='exp'     , \n",
    "    L       =15000000  , \n",
    "    payer   ='fixed' \n",
    ")\n",
    "\n",
    "if b1 > rfloatb2:\n",
    "    print(f\"The fixed-rate payer pays the floating-rate payer with the settlement amount of {format(abs(b3),',')}\")\n",
    "\n",
    "else:\n",
    "    print(f\"The float-rate payer pays the fixed-rate payer with the settlement amount of {format(abs(b3),',')}\")"
   ]
  },
  {
   "cell_type": "markdown",
   "id": "d8b333d3-cb6b-4ef1-b017-e46de627bb77",
   "metadata": {},
   "source": [
    "### Question C\n",
    "\n",
    "A $(6 \\times 12)$ FRA is set today with notional 20 million pesos. The 6-month zero rate with semi-annual compounding is 3.875% and the 1-year interest rate with semi-annual compounding is 4.125%."
   ]
  },
  {
   "cell_type": "code",
   "execution_count": 15,
   "id": "54737ab2-fa3c-4557-b136-1445637281f0",
   "metadata": {},
   "outputs": [
    {
     "name": "stdout",
     "output_type": "stream",
     "text": [
      "The fixed rate for this FRA is 4.38%.\n"
     ]
    }
   ],
   "source": [
    "#1. Determine the fixed rate for the FRA.\n",
    "\n",
    "c1 = forward_rate(\n",
    "    t   = 0           ,\n",
    "    T_1 = 6/12        ,\n",
    "    T_2 = 12/12       ,\n",
    "    r_1 = 3.875/100   ,\n",
    "    r_2 = 4.125/100   ,\n",
    "    m   = 2 \n",
    ") \n",
    "\n",
    "print(f\"The fixed rate for this FRA is {round(c1*100,2)}%.\") "
   ]
  },
  {
   "cell_type": "code",
   "execution_count": 16,
   "id": "d76a2f3d-bb51-4f6d-8b7e-b80cae9e5f56",
   "metadata": {},
   "outputs": [
    {
     "name": "stdout",
     "output_type": "stream",
     "text": [
      "The value of the FRA to the fixed-rate payer is -36,989.07 while its value to the floating-rate payer is 36,989.07\n"
     ]
    }
   ],
   "source": [
    "#2. After 3 months, the 3-month zero rate with quarterly compounding is 3.225% and the 9-month zero rate with quarterly compounding is 3.725%. \n",
    "#What is the value of the FRA to the fixed-rate payer? to the floating-rate payer?\n",
    "\n",
    "#Rates are coverted to semi-annual compounding\n",
    "rt_semi3  = convert_freq_rate(R_n=0.03225,n=4,m=2,freq='notexp')\n",
    "rt_semi9  = convert_freq_rate(R_n=0.03725,n=4,m=2,freq='notexp')\n",
    "\n",
    "rfloatc1 = forward_rate(\n",
    "    t   = 3/12        ,\n",
    "    T_1 = 6/12        ,\n",
    "    T_2 = 12/12       ,\n",
    "    r_1 = rt_semi3    ,\n",
    "    r_2 = rt_semi9    ,\n",
    "    m   = 2 \n",
    ")\n",
    "\n",
    "c2 =fra_value(\n",
    "    t       =3/12       ,\n",
    "    T_1     =6/12       , \n",
    "    T_2     =12/12      , \n",
    "    r_fixed = c1        ,\n",
    "    r_float = rfloatc1  ,\n",
    "    r_t     = rt_semi9  ,\n",
    "    m       = 2         ,\n",
    "    L       = 20000000  , \n",
    "    payer   ='fixed' \n",
    ")\n",
    "\n",
    "print(f\"The value of the FRA to the fixed-rate payer is {format(c2,',')} while its value to the floating-rate payer is {format(-c2,',')}\")"
   ]
  },
  {
   "cell_type": "code",
   "execution_count": 17,
   "id": "fc5f04e6-d6ca-4f26-8f88-bf5fe5e2d725",
   "metadata": {},
   "outputs": [
    {
     "name": "stdout",
     "output_type": "stream",
     "text": [
      "The floating-rate payer pays the fixed-rate payer with the settlement amount of 4,861.78\n"
     ]
    }
   ],
   "source": [
    "#3. Suppose the 6-month zero rate with semi-annual compounding at expiration date of the FRA is 4.425%. \n",
    "#Which party pays the other party? How much is the settlement amount??\n",
    "\n",
    "rfloatc3 = 4.425/100\n",
    "\n",
    "c3 =fra_value(\n",
    "    t       =6/12       ,\n",
    "    T_1     =6/12       , \n",
    "    T_2     =12/12      , \n",
    "    r_fixed = c1        ,\n",
    "    r_float = rfloatc3  ,\n",
    "    r_t     = rfloatc3  ,\n",
    "    m       = 2         ,\n",
    "    L       = 20000000  , \n",
    "    payer   ='fixed' \n",
    ")\n",
    "\n",
    "if c1 > rfloatc3:\n",
    "    print(f\"The fixed-rate payer pays the floating-rate payer with the settlement amount of {format(c3,',')}\")\n",
    "\n",
    "else:\n",
    "    print(f\"The floating-rate payer pays the fixed-rate payer with the settlement amount of {format(c3,',')}\")"
   ]
  },
  {
   "cell_type": "markdown",
   "id": "ac0ddd41-3470-4d67-ac1c-b03d0348fe27",
   "metadata": {},
   "source": [
    "### Question D\n",
    "\n",
    "A $(6 \\times 18)$ FRA with notional 5 million pesos was set 2 months ago for a fixed simple rate of 6.725%. Suppose the simple zero rates now are as follows."
   ]
  },
  {
   "cell_type": "code",
   "execution_count": 18,
   "id": "990e6ad1-dcf8-4977-84f2-344e47a57956",
   "metadata": {},
   "outputs": [
    {
     "name": "stdout",
     "output_type": "stream",
     "text": [
      "The estimated 4-month and 16-month zero rates are 4.615% and 6.465%, respectively\n"
     ]
    }
   ],
   "source": [
    "#1. Use linear interpolation to estimate the 4-month and 16-month zero rates.\n",
    "\n",
    "R4_a  = linear_interp(t= 4/12 ,x=[0.25,0.5]   ,y=[0.04515,0.04815])\n",
    "R16_a = linear_interp(t= 16/12,x=[12/12,24/12],y=[0.06235,0.06925])\n",
    "\n",
    "print(f\"The estimated 4-month and 16-month zero rates are {round(R4_a*100,4)}% and {round(R16_a*100,4)}%, respectively\") "
   ]
  },
  {
   "cell_type": "code",
   "execution_count": 19,
   "id": "f4f84a9c-381d-4482-a453-df01afb3b4f2",
   "metadata": {},
   "outputs": [
    {
     "name": "stdout",
     "output_type": "stream",
     "text": [
      "The value of the FRA to the fixed-rate payer is 11,479.35\n"
     ]
    }
   ],
   "source": [
    "#2. Determine the value of the FRA now to the fixed-rate payer.\n",
    "\n",
    "d1 = forward_rate(\n",
    "    t   = 0           ,\n",
    "    T_1 = 4/12        ,\n",
    "    T_2 = 16/12       ,\n",
    "    r_1 = R4_a        ,\n",
    "    r_2 = R16_a       ,\n",
    "    m   = 'simple' \n",
    ")\n",
    "\n",
    "d2 =fra_value(\n",
    "    t       =0         ,\n",
    "    T_1     =4/12      , \n",
    "    T_2     =16/12     , \n",
    "    r_fixed =6.725/100 ,\n",
    "    r_float =d1        ,\n",
    "    r_t     =R16_a     ,\n",
    "    m       ='simple'  ,\n",
    "    L       =5000000   , \n",
    "    payer   ='fixed'\n",
    ")\n",
    "\n",
    "print(f\"The value of the FRA to the fixed-rate payer is {format(d2,',')}\")"
   ]
  },
  {
   "cell_type": "code",
   "execution_count": 20,
   "id": "d9eb6dcf-6259-4df3-a4c5-9854c07eb9d4",
   "metadata": {},
   "outputs": [
    {
     "name": "stdout",
     "output_type": "stream",
     "text": [
      "The value of the FRA to the floating-rate payer is 23,890.82\n"
     ]
    }
   ],
   "source": [
    "### 3. After 2 months (from now), the simple zero rates are as follows. What is the value of the FRA to the floating-rate payer?\n",
    "\n",
    "R2  = linear_interp(t= 2/12,x=[1/12,3/12],y=[4.125/100,4.405/100])\n",
    "R4  = linear_interp(t= 4/12,x=[3/12,6/12],y=[4.405/100,5.015/100])\n",
    "R14 = linear_interp(t= 14/12,x=[12/12,24/12],y=[5.925/100,6.215/100])\n",
    "R16 = linear_interp(t= 16/12,x=[12/12,24/12],y=[5.925/100,6.215/100])\n",
    "\n",
    "rfl = forward_rate(\n",
    "    t   = 2/12        ,\n",
    "    T_1 = 4/12        ,\n",
    "    T_2 = 16/12       ,\n",
    "    r_1 = R2          ,\n",
    "    r_2 = R14         ,\n",
    "    m   = 'simple' \n",
    ")\n",
    "\n",
    "d4 =fra_value (\n",
    "    t       =2/12        ,\n",
    "    T_1     =4/12        , \n",
    "    T_2     =16/12       , \n",
    "    r_fixed =6.725/100   ,\n",
    "    r_float =rfl         ,\n",
    "    r_t     =R14         ,\n",
    "    m       ='simple'    ,\n",
    "    L       =5000000     , \n",
    "    payer   ='float'\n",
    ")\n",
    "\n",
    "print(f\"The value of the FRA to the floating-rate payer is {format(d4,',')}\")"
   ]
  },
  {
   "cell_type": "code",
   "execution_count": 23,
   "id": "d456d222-eda5-4a50-b7b0-19883c62902e",
   "metadata": {},
   "outputs": [
    {
     "name": "stdout",
     "output_type": "stream",
     "text": [
      "The fixed-rate payer pays the floating-rate payer with the settlement amount of 30,638.7\n"
     ]
    }
   ],
   "source": [
    "#4. At expiration date, the simple zero rates are as follows. Which party pays the other party? How much is the settlement amount?\n",
    "\n",
    "rfloatd = 6.075/100\n",
    "rfx = 6.725/100\n",
    "\n",
    "R4d  = linear_interp(t= 4/12,x=[3/12,6/12],y=[4.455/100,4.915/100])\n",
    "R16d = linear_interp(t= 16/12,x=[12/12,24/12],y=[6.075/100,6.565/100])\n",
    "\n",
    "d5 =fra_value (\n",
    "    t       =4/12        ,\n",
    "    T_1     =4/12        , \n",
    "    T_2     =16/12       , \n",
    "    r_fixed =6.725/100   ,\n",
    "    r_float =rfloatd     ,\n",
    "    r_t     =rfloatd     ,\n",
    "    m       ='simple'    ,\n",
    "    L       =5000000     , \n",
    "    payer   ='float'\n",
    ")\n",
    "\n",
    "if rfx > rfloatd:\n",
    "    print(f\"The fixed-rate payer pays the floating-rate payer with the settlement amount of {format(d5,',')}\")\n",
    "\n",
    "else:\n",
    "    print(f\"The floating-rate payer pays the fixed-rate payer with the settlement amount of {format(d5,',')}\")"
   ]
  },
  {
   "cell_type": "code",
   "execution_count": null,
   "id": "6c911ad9-02f8-4aad-951a-2818bc1e30aa",
   "metadata": {},
   "outputs": [],
   "source": []
  }
 ],
 "metadata": {
  "kernelspec": {
   "display_name": "Python 3 (ipykernel)",
   "language": "python",
   "name": "python3"
  },
  "language_info": {
   "codemirror_mode": {
    "name": "ipython",
    "version": 3
   },
   "file_extension": ".py",
   "mimetype": "text/x-python",
   "name": "python",
   "nbconvert_exporter": "python",
   "pygments_lexer": "ipython3",
   "version": "3.9.12"
  }
 },
 "nbformat": 4,
 "nbformat_minor": 5
}
